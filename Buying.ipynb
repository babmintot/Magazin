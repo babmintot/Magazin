from random import randint

magaz_list = input('Введите список магазинов через ",": ').replace(' ', '').split(',')
print('========================================================')
towar_list = input('Введите список товаров через ",": ').replace(' ', '').split(',')
print('========================================================')
summary_dict = {}

for magaz in magaz_list:
    towar_prices_dict = {}
    for good in towar_list:
        try:
            price = int(input('Введите цену на ' + good + ' в магазине ' + magaz + ': '))
        except Exception:
            price = randint(1, 99)
            print('Систему не обмануть!!! Цена на ' + good + ' установлена: ' + str(price) + ' !')
        print('--------------------------------------------------------')
        towar_prices_dict[good] = price
    summary_dict[magaz] = towar_prices_dict

shopping_note = ''
while shopping_note in ['']:
    shopping_note = input('Введите список покупок в формате "покупка_количество" через ",": ')

shopping_list = shopping_note.replace(' ', '').split(',')
shopping_dict = {}

for buy_item in shopping_list:
    if buy_item.split('_')[0] in towar_list:
        shopping_dict[buy_item.split('_')[0]] = int(buy_item.split('_')[1])
    else:
        print('Товар ' + buy_item.split('_')[0] + ' не завезли в магазины!')

if len(shopping_dict.keys()) == 0:
    print("Если вы ничево не выбрали, нечего тут и таращиться!!!")
else:
    print('========================================================')
    total_price_dict = {}
    for magaz in summary_dict.keys():
        total_price = 0
        for buy_item_name in shopping_dict.keys():
            total_price += summary_dict.get(magaz).get(buy_item_name) * shopping_dict[buy_item_name]
        print('Общая сумма покупки в магазине ' + magaz + ': ' + str(total_price))
        print('--------------------------------------------------------')
        total_price_dict[magaz] = total_price

    top_magaz = []
    minimal_price_list = list(total_price_dict.values())
    minimal_price_list.sort()
    minimal_price = minimal_price_list[0]
    for magaz in total_price_dict.keys():
        if total_price_dict[magaz] == minimal_price:
            top_magaz.append(magaz)
    print('========================================================')
    print('Выгоднее всего закупиться в: ' + str(top_magaz).replace("'", "").replace('[', '').replace(']', '') + ' по цене: ' + str(minimal_price))

# Готовая инструкция:
# 1) Магазины "А, Б, В, Г"
# 2) Товары "Чашка к чаю, Тарелка, Ложка, Пакет сахара (1 кг), Вилка"
# 3) Если не вводить цену товара, она сгенерится сама
# 4) Покупки "Чашка к чаю_2,Тарелка_2,Ложка_2,Пакет сахара (1 кг)_1" - название_количество
